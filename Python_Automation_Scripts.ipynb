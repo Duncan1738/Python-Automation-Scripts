{
  "nbformat": 4,
  "nbformat_minor": 0,
  "metadata": {
    "colab": {
      "provenance": [],
      "authorship_tag": "ABX9TyNwqn0tn4gW8HHr3SPYN4DY",
      "include_colab_link": true
    },
    "kernelspec": {
      "name": "python3",
      "display_name": "Python 3"
    },
    "language_info": {
      "name": "python"
    }
  },
  "cells": [
    {
      "cell_type": "markdown",
      "metadata": {
        "id": "view-in-github",
        "colab_type": "text"
      },
      "source": [
        "<a href=\"https://colab.research.google.com/github/Duncan1738/Python-Automation-Scripts/blob/main/Python_Automation_Scripts.ipynb\" target=\"_parent\"><img src=\"https://colab.research.google.com/assets/colab-badge.svg\" alt=\"Open In Colab\"/></a>"
      ]
    },
    {
      "cell_type": "markdown",
      "source": [
        "📌 Step 1: Install **Dependencies**"
      ],
      "metadata": {
        "id": "uD08S3bcM4-3"
      }
    },
    {
      "cell_type": "code",
      "execution_count": null,
      "metadata": {
        "id": "8n320DCCMGfd"
      },
      "outputs": [],
      "source": [
        "!pip install requests beautifulsoup4 pandas selenium openpyxl smtplib webdriver-manager\n",
        "!apt-get update && apt-get install -y chromium-chromedriver\n"
      ]
    },
    {
      "cell_type": "markdown",
      "source": [
        "🕸️ Step 2: Web Scraping Automation (BeautifulSoup)"
      ],
      "metadata": {
        "id": "Lo-W4ZjmNEKL"
      }
    },
    {
      "cell_type": "code",
      "source": [
        "import requests\n",
        "from bs4 import BeautifulSoup\n",
        "\n",
        "# Target website\n",
        "URL = \"https://news.ycombinator.com/\"\n",
        "response = requests.get(URL)\n",
        "soup = BeautifulSoup(response.text, \"html.parser\")\n",
        "\n",
        "# Extract article titles\n",
        "titles = [title.text for title in soup.find_all(\"a\", class_=\"titlelink\")]\n",
        "\n",
        "# Display scraped data\n",
        "print(\"\\n📰 Scraped Article Titles:\")\n",
        "for i, title in enumerate(titles[:10], start=1):\n",
        "    print(f\"{i}. {title}\")\n"
      ],
      "metadata": {
        "id": "PtShxrC8Mjww"
      },
      "execution_count": 1,
      "outputs": []
    },
    {
      "cell_type": "markdown",
      "source": [
        "📊 Step 3: Automate Excel Reports (Pandas)"
      ],
      "metadata": {
        "id": "IQxQW9dnNJYx"
      }
    },
    {
      "cell_type": "code",
      "source": [
        "import pandas as pd\n",
        "\n",
        "# Sample data\n",
        "data = {\n",
        "    \"Date\": [\"2025-03-01\", \"2025-03-02\", \"2025-03-03\"],\n",
        "    \"Sales\": [1500, 1700, 1800],\n",
        "    \"Profit\": [300, 400, 500]\n",
        "}\n",
        "\n",
        "# Convert to DataFrame\n",
        "df = pd.DataFrame(data)\n",
        "\n",
        "# Save as Excel\n",
        "excel_path = \"/content/sales_report.xlsx\"\n",
        "df.to_excel(excel_path, index=False)\n",
        "\n",
        "print(f\"\\n📊 Excel Report Saved: {excel_path}\")\n"
      ],
      "metadata": {
        "id": "mZ4LKKsBNNJH"
      },
      "execution_count": null,
      "outputs": []
    },
    {
      "cell_type": "markdown",
      "source": [
        "📧 Step 4: Automate Email Sending (SMTP)"
      ],
      "metadata": {
        "id": "rKgU97TWNc7r"
      }
    },
    {
      "cell_type": "code",
      "source": [
        "import smtplib\n",
        "from email.message import EmailMessage\n",
        "\n",
        "# Email details\n",
        "EMAIL_SENDER = \"your_email@gmail.com\"\n",
        "EMAIL_PASSWORD = \"your_password\"  # Use environment variables instead of hardcoding passwords\n",
        "EMAIL_RECEIVER = \"recipient@example.com\"\n",
        "\n",
        "# Create email\n",
        "msg = EmailMessage()\n",
        "msg.set_content(\"Hello, this is an automated email from Python!\")\n",
        "msg[\"Subject\"] = \"Python Automation Email\"\n",
        "msg[\"From\"] = EMAIL_SENDER\n",
        "msg[\"To\"] = EMAIL_RECEIVER\n",
        "\n",
        "# Send email\n",
        "try:\n",
        "    with smtplib.SMTP_SSL(\"smtp.gmail.com\", 465) as smtp:\n",
        "        smtp.login(EMAIL_SENDER, EMAIL_PASSWORD)\n",
        "        smtp.send_message(msg)\n",
        "    print(\"\\n📧 Email Sent Successfully!\")\n",
        "except Exception as e:\n",
        "    print(f\"\\n⚠️ Error sending email: {e}\")\n"
      ],
      "metadata": {
        "id": "Oc_V4y1ONjaN"
      },
      "execution_count": null,
      "outputs": []
    },
    {
      "cell_type": "markdown",
      "source": [
        "💻 Step 5: Automate Web Browsing (Selenium)"
      ],
      "metadata": {
        "id": "wu926qByNmfW"
      }
    },
    {
      "cell_type": "code",
      "source": [
        "from selenium import webdriver\n",
        "from selenium.webdriver.chrome.service import Service\n",
        "from selenium.webdriver.common.by import By\n",
        "from webdriver_manager.chrome import ChromeDriverManager\n",
        "\n",
        "# Setup Selenium WebDriver\n",
        "service = Service(ChromeDriverManager().install())\n",
        "options = webdriver.ChromeOptions()\n",
        "options.add_argument(\"--headless\")  # Run in headless mode (no UI)\n",
        "options.add_argument(\"--disable-gpu\")\n",
        "options.add_argument(\"--no-sandbox\")\n",
        "\n",
        "driver = webdriver.Chrome(service=service, options=options)\n",
        "\n",
        "# Open website\n",
        "driver.get(\"https://www.python.org\")\n",
        "\n",
        "# Extract news headlines\n",
        "news_elements = driver.find_elements(By.CSS_SELECTOR, \".medium-widget .menu li a\")\n",
        "news_headlines = [news.text for news in news_elements]\n",
        "\n",
        "print(\"\\n🐍 Python.org Latest News:\")\n",
        "for i, headline in enumerate(news_headlines[:5], start=1):\n",
        "    print(f\"{i}. {headline}\")\n",
        "\n",
        "# Close browser\n",
        "driver.quit()\n"
      ],
      "metadata": {
        "id": "_U_nW8JlNrhd"
      },
      "execution_count": null,
      "outputs": []
    }
  ]
}